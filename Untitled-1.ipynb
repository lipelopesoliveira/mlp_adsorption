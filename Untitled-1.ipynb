{
 "cells": [
  {
   "cell_type": "code",
   "execution_count": null,
   "id": "d0c31e50",
   "metadata": {},
   "outputs": [],
   "source": [
    "import numpy as np\n",
    "from scipy.special import erfc\n",
    "import json\n",
    "\n",
    "# Physical constants\n",
    "BOLTZMANN    = 1.380649e-23  # J/K\n",
    "AVOGADRO     = 6.02214076e23  # 1/mol\n",
    "PLANCK       = 1.0545718e-34\n",
    "AUTOA        = 0.529177249\n",
    "FELECT       = 2 * AUTOA * 13.605826\n",
    "\n",
    "# Conversion factors\n",
    "JOULE_TO_KJ_MOL = 1e-3 * AVOGADRO\n",
    "KJ_MOL_TO_J = 1e3 / AVOGADRO\n",
    "EV_TO_KJ_MOL = 96.48530749925793\n",
    "J_TO_EV      = AVOGADRO / 1000.0 / EV_TO_KJ_MOL\n",
    "\n",
    "class Ewald(object):\n",
    "    def __init__(self,\n",
    "                 atoms,\n",
    "                 Z,\n",
    "                 frame_idx,\n",
    "                 ads_idx,\n",
    "                 eta: float = 0.0,\n",
    "                 Rcut: float = 4.0,\n",
    "                 Gcut: float = 4.0):\n",
    "        '''\n",
    "        Initialize the Ewald summation object.\n",
    "        '''\n",
    "        \n",
    "        self._atoms  = atoms\n",
    "        self._na = len(self._atoms)\n",
    "        self._iframe = frame_idx\n",
    "        self._iads = ads_idx\n",
    "        self._scapos = self._atoms.get_scaled_positions()\n",
    "\n",
    "        self._Acell = self._atoms.cell[:]             # real-space cell\n",
    "        self._Bcell = np.linalg.inv(self._Acell).T    # reciprocal-space cell\n",
    "        self._omega = np.linalg.det(self._Acell)      # volume of real-space cell\n",
    "\n",
    "        self._ZZ = Z\n",
    "        ZZ_frame_mesh, ZZ_ads_mesh = np.meshgrid(self._ZZ[self._iframe],\n",
    "                                                 self._ZZ[self._iads],\n",
    "                                                 indexing = 'ij')\n",
    "        self._Zij = ZZ_frame_mesh * ZZ_ads_mesh\n",
    "\n",
    "        self._inv_4pi_epsilon0 = FELECT\n",
    "\n",
    "        if eta == 0.0:\n",
    "            self._eta = np.sqrt(np.pi) / self._omega**(1./3)\n",
    "        else:\n",
    "            self._eta = np.array(eta)\n",
    "\n",
    "        self._Rcut = Rcut\n",
    "        self._Gcut = Gcut\n",
    "\n",
    "    def get_sum_real(self):\n",
    "        '''\n",
    "        Real-space contribution to the Ewald sum.\n",
    "\n",
    "                 1                              erfc(eta | r_ij + R_N |)\n",
    "            U = --- \\sum_{ij} \\sum'_N Z_i Z_j -----------------------------\n",
    "                 2                                    | r_ij + R_N |\n",
    "\n",
    "        where the prime in \\sum_N means i != j when N = 0.\n",
    "        '''\n",
    "\n",
    "        ii, jj = np.meshgrid(self._iframe, self._iads, indexing = 'ij')\n",
    "        rij = self._scapos[ii] - self._scapos[jj]\n",
    "\n",
    "        # move rij to the range [-0.5, 0.5]\n",
    "        rij = np.where(rij >= 0.5, rij - 1.0, rij)\n",
    "        rij = np.where(rij < -0.5, rij + 1.0, rij)\n",
    "    \n",
    "        ############################################################\n",
    "        # contribution from N = 0 cell\n",
    "        ############################################################\n",
    "        rij0 = np.linalg.norm(\n",
    "            np.tensordot(self._Acell, np.transpose(rij, (2, 1, 0)), axes = ([0], [0])),\n",
    "            axis = 0)\n",
    "        \n",
    "        Uij = erfc(rij0 * self._eta) / rij0\n",
    "\n",
    "        ############################################################\n",
    "        # contribution from N != 0 cells\n",
    "        ############################################################\n",
    "        rij = np.transpose(rij, (2, 1, 0)).reshape(3, -1)\n",
    "        nx, ny, nz = ((self._Rcut / self._eta / np.linalg.norm(self._Acell, axis = 1)).astype(np.int64)) + 1\n",
    "        \n",
    "        Rn = np.stack(np.meshgrid(\n",
    "            np.arange(-nx.item(), nx.item() + 1),\n",
    "            np.arange(-ny.item(), ny.item() + 1),\n",
    "            np.arange(-nz.item(), nz.item() + 1), indexing = 'ij'\n",
    "        )).reshape(3, -1)\n",
    "    \n",
    "        # remove N = 0 term\n",
    "        cut = np.sum(np.abs(Rn), axis = 0) != 0\n",
    "        Rn  = Rn[:, cut]\n",
    "\n",
    "        # R_N + rij\n",
    "        Rr = np.linalg.norm(\n",
    "            np.tensordot(self._Acell, Rn[:, None, :] + rij[:, :, None], axes = ([0], [0])),\n",
    "            axis = 0)\n",
    "\n",
    "        Uij += np.sum(\n",
    "            erfc(self._eta * Rr) / Rr, axis = 1\n",
    "        ).reshape((len(self._iads), len(self._iframe)))\n",
    "\n",
    "        return Uij\n",
    "\n",
    "    def get_sum_recp(self):\n",
    "        '''\n",
    "        Reciprocal-space contribution to the Ewald sum.\n",
    "\n",
    "                  1            4pi              \n",
    "            U = ----- \\sum'_G ----- exp(-G^2/(4 eta^2)) \\sum_{ij} Z_i Z_j exp(-i G r_ij)\n",
    "                 2 V           G^2\n",
    "\n",
    "        where the prime in \\sum_G means G != 0.\n",
    "        '''\n",
    "        nx, ny, nz = ((self._Gcut * self._eta / np.pi / np.linalg.norm(self._Bcell, axis = 1)).astype(np.int64)) + 1\n",
    "        Gn = np.stack(np.meshgrid(\n",
    "            np.arange(-nx.item(), nx.item() + 1),\n",
    "            np.arange(-ny.item(), ny.item() + 1),\n",
    "            np.arange(-nz.item(), nz.item() + 1), indexing = 'ij'\n",
    "            )).reshape((3, -1))\n",
    "\n",
    "        # remove G = 0 term\n",
    "        cut = np.sum(np.abs(Gn), axis = 0) != 0\n",
    "        Gn  = Gn[:, cut]\n",
    "        G2 = np.linalg.norm(\n",
    "            np.tensordot(self._Bcell * 2 * np.pi, Gn, axes = ([0], [0])),\n",
    "            axis = 0)**2\n",
    "        expG2_invG2 = 4 * np.pi * np.exp(-G2 / 4 / self._eta**2) / G2\n",
    "\n",
    "        ii, jj = np.meshgrid(self._iframe, self._iads, indexing = 'ij')\n",
    "        rij = self._scapos[ii] - self._scapos[jj]\n",
    "        sfac = np.exp(-2j * np.pi * np.matmul(rij, Gn))\n",
    "        Uij  = 0.5 * np.sum(expG2_invG2 * sfac, axis = -1) / self._omega * 2.0\n",
    "\n",
    "        return Uij.real\n",
    "\n",
    "    def get_ewaldsum(self):\n",
    "        '''\n",
    "        Total Coulomb energy from Ewald summation.\n",
    "        '''\n",
    "        # Real-space contribution\n",
    "        Ur = np.sum(self.get_sum_real() * self._Zij.T)\n",
    "\n",
    "        # Reciprocal-space contribution\n",
    "        Ug = np.sum(self.get_sum_recp() * self._Zij)\n",
    "\n",
    "        # Total Coulomb energy\n",
    "        Ut = (Ur + Ug) * self._inv_4pi_epsilon0\n",
    "\n",
    "        return Ut.item()\n",
    "\n",
    "\n"
   ]
  },
  {
   "cell_type": "code",
   "execution_count": 3,
   "id": "68c96b29",
   "metadata": {},
   "outputs": [],
   "source": [
    "import os\n",
    "import gemmi\n",
    "import numpy as np"
   ]
  },
  {
   "cell_type": "code",
   "execution_count": 4,
   "id": "26903485",
   "metadata": {},
   "outputs": [],
   "source": [
    "def readCIF(FrameworkName: str,\n",
    "            OutputFolder: str = '.',\n",
    "            **kwargs) -> tuple[list[float], list[str], np.ndarray, np.ndarray, np.ndarray, np.ndarray]:\n",
    "    \"\"\"\n",
    "    Read the CIF file.\n",
    "\n",
    "    Parameters\n",
    "    ----------\n",
    "    FrameworkName : str\n",
    "        Name of the framework.\n",
    "    OutputFolder : str\n",
    "        Path to the output folder. Default: `.`\n",
    "    \"\"\"\n",
    "\n",
    "    # Read the cif file and get the lattice parameters and atomic positions\n",
    "    cif_filename = os.path.join(OutputFolder, FrameworkName + '.cif')\n",
    "\n",
    "    cif = gemmi.cif.read_file(cif_filename).sole_block()\n",
    "\n",
    "    a = float(cif.find_value('_cell_length_a').split('(')[0])\n",
    "    b = float(cif.find_value('_cell_length_b').split('(')[0])\n",
    "    c = float(cif.find_value('_cell_length_c').split('(')[0])\n",
    "    beta = float(cif.find_value('_cell_angle_beta').split('(')[0])\n",
    "    gamma = float(cif.find_value('_cell_angle_gamma').split('(')[0])\n",
    "    alpha = float(cif.find_value('_cell_angle_alpha').split('(')[0])\n",
    "\n",
    "    CellParameters = [a, b, c, alpha, beta, gamma]\n",
    "\n",
    "    AtomicTypes = list(cif.find_values('_atom_site_type_symbol'))\n",
    "    PosX = np.array(cif.find_values('_atom_site_fract_x')).astype(float)\n",
    "    PosY = np.array(cif.find_values('_atom_site_fract_y')).astype(float)\n",
    "    PosZ = np.array(cif.find_values('_atom_site_fract_z')).astype(float)\n",
    "\n",
    "    try:\n",
    "        charges = np.array(cif.find_values('_atom_site_charge')).astype(float)\n",
    "    except Exception:\n",
    "        charges = np.zeros(len(PosX), dtype=float)\n",
    "\n",
    "    return CellParameters, AtomicTypes, PosX, PosY, PosZ, charges\n",
    "\n",
    "\n",
    "from ase import Atoms\n",
    "from ase.cell import Cell\n",
    "\n",
    "def cif_to_ase(FrameworkName, path='.'):\n",
    "    \"\"\"\n",
    "    Convert a CIF file to an ASE Atoms object.\n",
    "\n",
    "    Parameters\n",
    "    ----------\n",
    "    FrameworkName : str\n",
    "        Name of the framework.\n",
    "    path : str\n",
    "        Path to the directory containing the CIF file. Default: `'.'`\n",
    "    \n",
    "    Returns\n",
    "    -------\n",
    "    ase.Atoms\n",
    "        ASE Atoms object containing the structure from the CIF file.\n",
    "    \"\"\"\n",
    "\n",
    "\n",
    "    CellParameters, AtomicTypes, PosX, PosY, PosZ, charges = readCIF(FrameworkName.rsplit('.cif')[0], path)\n",
    "\n",
    "    aseAtoms = Atoms(\n",
    "        symbols=AtomicTypes,\n",
    "        scaled_positions=np.array([PosX, PosY, PosZ]).T,\n",
    "        pbc=True,\n",
    "        cell=Cell.fromcellpar(CellParameters),\n",
    "    )\n",
    "\n",
    "    aseAtoms.set_initial_charges(charges)\n",
    "\n",
    "    return aseAtoms"
   ]
  },
  {
   "cell_type": "code",
   "execution_count": 5,
   "id": "0ffdb04c",
   "metadata": {},
   "outputs": [],
   "source": [
    "test = cif_to_ase('Mg-MOF-74.cif')"
   ]
  },
  {
   "cell_type": "code",
   "execution_count": 21,
   "id": "452eb2e7",
   "metadata": {},
   "outputs": [
    {
     "name": "stderr",
     "output_type": "stream",
     "text": [
      "/tmp/ipykernel_8547/444733650.py:82: RuntimeWarning: divide by zero encountered in divide\n",
      "  Uij = erfc(rij0 * self._eta) / rij0\n"
     ]
    },
    {
     "data": {
      "text/plain": [
       "inf"
      ]
     },
     "execution_count": 21,
     "metadata": {},
     "output_type": "execute_result"
    }
   ],
   "source": [
    "ewald = Ewald(test, test.get_initial_charges(), [0, -1], [-1, -1])\n",
    "ewald.get_ewaldsum()"
   ]
  },
  {
   "cell_type": "code",
   "execution_count": 52,
   "id": "186ea6eb",
   "metadata": {},
   "outputs": [
    {
     "data": {
      "text/plain": [
       "14.39978610019397"
      ]
     },
     "execution_count": 52,
     "metadata": {},
     "output_type": "execute_result"
    }
   ],
   "source": [
    "AUTOA        = 0.529177249\n",
    "FELECT       = 2 * units.Bohr * 13.605826\n",
    "\n",
    "FELECT"
   ]
  },
  {
   "cell_type": "code",
   "execution_count": 51,
   "id": "6f98b532",
   "metadata": {},
   "outputs": [
    {
     "data": {
      "text/plain": [
       "14.399645351950548"
      ]
     },
     "execution_count": 51,
     "metadata": {},
     "output_type": "execute_result"
    }
   ],
   "source": []
  },
  {
   "cell_type": "code",
   "execution_count": 47,
   "id": "9568b106",
   "metadata": {},
   "outputs": [
    {
     "data": {
      "text/plain": [
       "1.5791367041742972e-05"
      ]
     },
     "execution_count": 47,
     "metadata": {},
     "output_type": "execute_result"
    }
   ],
   "source": [
    "from ase import units\n",
    "\n",
    "4 * np.pi * units._mu0"
   ]
  },
  {
   "cell_type": "code",
   "execution_count": 54,
   "id": "0e39bf92",
   "metadata": {},
   "outputs": [
    {
     "data": {
      "text/plain": [
       "8987551787.368176"
      ]
     },
     "execution_count": 54,
     "metadata": {},
     "output_type": "execute_result"
    }
   ],
   "source": [
    "1 / (4 * np.pi * units._eps0)"
   ]
  },
  {
   "cell_type": "code",
   "execution_count": 71,
   "id": "35ceda44",
   "metadata": {},
   "outputs": [],
   "source": [
    "from scipy.special import erf, erfc\n",
    "\n",
    "\n",
    "class EwaldSum():\n",
    "    '''\n",
    "    Ewald summation for periodic systems based on an ASE Atoms object.\n",
    "    '''\n",
    "\n",
    "    def __init__(self,\n",
    "                 atoms,\n",
    "                 eta: float=0.0,\n",
    "                 Rcut: float=4.0,\n",
    "                 Gcut: float=4.0):\n",
    "        '''\n",
    "        Initialize the Ewald summation object.\n",
    "\n",
    "        Parameters\n",
    "        ----------\n",
    "        atoms : ase.Atoms\n",
    "            The ASE Atoms object containing the atomic structure.\n",
    "        eta : float, optional\n",
    "            The decaying parameter for the Ewald summation.\n",
    "            If set to 0.0, it will be calculated based on the volume of the real-space cell. Default is 0.\n",
    "        Rcut : float, optional\n",
    "            The cutoff radius for the real-space summation. Default is 4.0.\n",
    "        Gcut : float, optional\n",
    "            The cutoff radius for the reciprocal-space summation. Default is 4.0.\n",
    "        '''\n",
    "\n",
    "        # the poscar storing the atoms information\n",
    "        self.atoms  = atoms\n",
    "        self.nAtoms = len(self.atoms)\n",
    "        self._ZZ = self.atoms.get_initial_charges()\n",
    "        # z_i * z_j\n",
    "        self._Zij = np.prod(\n",
    "            np.meshgrid(self._ZZ, self._ZZ, indexing='ij'),\n",
    "            axis=0)\n",
    "\n",
    "        # FELECT = (the electronic charge)/(4*pi*the permittivity of free space) in atomic units this is just e^2\n",
    "        self._inv_4pi_epsilon0 = units.Bohr * units.Hartree # What are the units of FELECT? Should it be in eV?\n",
    "\n",
    "        self._real_space_cell = np.array(self.atoms.cell)                         # real-space cell\n",
    "        self._reciprocal_space_cell = np.linalg.inv(self._real_space_cell).T      # reciprocal-space cell\n",
    "        self._omega = np.linalg.det(self._real_space_cell)                        # Volume of real-space cell\n",
    "\n",
    "        # the decaying parameter\n",
    "        if eta == 0.0:\n",
    "            self._eta = np.sqrt(np.pi) / (self._omega)**(1./3)\n",
    "            # self._eta = np.sqrt(np.pi) / np.linalg.norm(self._Acell, axis=1).min()\n",
    "        else:\n",
    "            self._eta = eta\n",
    "\n",
    "        self._Rcut = Rcut\n",
    "        self._Gcut = Gcut\n",
    "\n",
    "    def get_sum_real(self):\n",
    "        '''\n",
    "        Real-space contribution to the Ewald sum.\n",
    "\n",
    "                 1                              erfc(eta | r_ij + R_N |)\n",
    "            U = --- \\sum_{ij} \\sum'_N Z_i Z_j -----------------------------\n",
    "                 2                                    | r_ij + R_N |\n",
    "\n",
    "        where the prime in \\sum_N means i != j when N = 0.\n",
    "        '''\n",
    "        ii, jj = np.mgrid[0:self.nAtoms, 0:self.nAtoms]\n",
    "\n",
    "        # r_i - r_j, rij of shape (natoms, natoms, 3)\n",
    "        rij = self.atoms.get_scaled_positions()[ii,:] - self.atoms.get_scaled_positions()[jj,:]\n",
    "        # move rij to the range [-0.5,0.5]\n",
    "        rij[rij >= 0.5] -= 1.0\n",
    "        rij[rij < -0.5] += 1.0\n",
    "        \n",
    "        ############################################################\n",
    "        # contribution from N = 0 cell\n",
    "        ############################################################\n",
    "        rij0 = np.linalg.norm(\n",
    "            np.tensordot(self._real_space_cell, rij.T, axes=(0,0)),\n",
    "            axis=0\n",
    "        )\n",
    "        dd = range(self.nAtoms)\n",
    "        # make diagonal term non-zero to avoid divide-by-zero error\n",
    "        rij0[dd, dd] = 0.1\n",
    "        Uij = erfc(rij0 * self._eta) / rij0\n",
    "        # set diagonal term zero\n",
    "        Uij[dd, dd] = 0\n",
    "\n",
    "        ############################################################\n",
    "        # contribution from N != 0 cells\n",
    "        ############################################################\n",
    "        rij = rij.reshape((-1, 3)).T\n",
    "\n",
    "        nx, ny, nz = np.array(\n",
    "            self._Rcut / self._eta / np.linalg.norm(self._real_space_cell, axis=1),\n",
    "            dtype=int\n",
    "        ) + 1\n",
    "        Rn  = np.mgrid[-nx:nx+1, -ny:ny+1, -nz:nz+1].reshape((3,-1))\n",
    "        # remove N = 0 term\n",
    "        cut = np.sum(np.abs(Rn), axis=0) != 0\n",
    "        Rn  = Rn[:,cut]\n",
    "        \n",
    "        # R_N + rij\n",
    "        Rr = np.linalg.norm(\n",
    "            np.tensordot(self._real_space_cell, Rn[:,None,:] + rij[:,:,None], axes=(0,0)),\n",
    "            axis=0\n",
    "        )\n",
    "        Uij += np.sum(\n",
    "            erfc(self._eta * Rr) / Rr, axis=1\n",
    "        ).reshape((self.nAtoms, self.nAtoms))\n",
    "\n",
    "        return 0.5*Uij\n",
    "\n",
    "\n",
    "    def get_sum_recp(self):\n",
    "        '''\n",
    "        Reciprocal-space contribution to the Ewald sum.\n",
    "\n",
    "                  1            4pi              \n",
    "            U = ----- \\sum'_G ----- exp(-G^2/(4 eta^2)) \\sum_{ij} Z_i Z_j exp(-i G r_ij)\n",
    "                 2 V           G^2\n",
    "\n",
    "        where the prime in \\sum_G means G != 0.\n",
    "        '''\n",
    "        nx, ny, nz = np.array(\n",
    "            self._Gcut * self._eta / np.pi / np.linalg.norm(self._reciprocal_space_cell, axis=1),\n",
    "            dtype=int\n",
    "        ) + 1\n",
    "        Gn  = np.mgrid[-nx:nx+1, -ny:ny+1, -nz:nz+1].reshape((3,-1))\n",
    "        # remove G = 0 term\n",
    "        cut = np.sum(np.abs(Gn), axis=0) != 0\n",
    "        Gn  = Gn[:,cut]\n",
    "\n",
    "        G2 = np.linalg.norm(\n",
    "            np.tensordot(self._reciprocal_space_cell*2*np.pi, Gn, axes=(0,0)),\n",
    "            axis=0\n",
    "        )**2\n",
    "        expG2_invG2 = 4*np.pi * np.exp(-G2/4/self._eta**2) / G2\n",
    "\n",
    "        # r_i - r_j, rij of shape (natoms, natoms, 3)\n",
    "        # no need to move rij from [0,1] to [-0.5,0.5], which will not affect\n",
    "        # the phase G*rij\n",
    "        ii, jj = np.mgrid[0:self.nAtoms, 0:self.nAtoms]\n",
    "        rij = self.atoms.get_scaled_positions()[ii,:] - self.atoms.get_scaled_positions()[jj,:]\n",
    "\n",
    "        sfac = np.exp(-2j*np.pi * (rij @ Gn))\n",
    "\n",
    "        Uij  = 0.5 * np.sum(expG2_invG2 * sfac, axis=-1) / self._omega\n",
    "\n",
    "        return Uij.real\n",
    "\n",
    "\n",
    "    def get_ewaldsum(self):\n",
    "        '''\n",
    "        Total Coulomb energy from Ewald summation in eV.\n",
    "\n",
    "        The total Coulomb energy is given by:\n",
    "        Ut = (Ur + Ug + Us + Un) * inv_4pi_epsilon0\n",
    "\n",
    "        where:\n",
    "        - Ur is the real-space contribution\n",
    "        - Ug is the reciprocal-space contribution\n",
    "        - Us is the interaction between charges\n",
    "        - Un is the interaction with the neutralizing background\n",
    "        '''\n",
    "\n",
    "        # real-space contribution\n",
    "        Ur = np.sum(self.get_sum_real() * self._Zij)\n",
    "        # reciprocal--space contribution\n",
    "        Ug = np.sum(self.get_sum_recp() * self._Zij)\n",
    "\n",
    "        # interaction between charges\n",
    "        Us = -self._eta / np.sqrt(np.pi) * np.sum(self._ZZ**2)\n",
    "        # interaction with the neutralizing background\n",
    "        Un = -(2*np.pi / self._eta**2 / self._omega) * self._ZZ.sum()**2 / 4\n",
    "\n",
    "        # total coulomb energy\n",
    "        Ut = (Ur + Ug + Us + Un)*self._inv_4pi_epsilon0\n",
    "\n",
    "        return Ut\n",
    "\n",
    "\n",
    "ew_obj = EwaldSum(test)"
   ]
  },
  {
   "cell_type": "code",
   "execution_count": 70,
   "id": "79e4f8fc",
   "metadata": {},
   "outputs": [
    {
     "data": {
      "text/plain": [
       "-703.8102797066243"
      ]
     },
     "execution_count": 70,
     "metadata": {},
     "output_type": "execute_result"
    }
   ],
   "source": [
    "ew_obj.get_ewaldsum()"
   ]
  },
  {
   "cell_type": "code",
   "execution_count": 56,
   "id": "5d98cdae",
   "metadata": {},
   "outputs": [
    {
     "data": {
      "text/plain": [
       "8.617330337217213e-05"
      ]
     },
     "execution_count": 56,
     "metadata": {},
     "output_type": "execute_result"
    }
   ],
   "source": [
    "units.kB"
   ]
  },
  {
   "cell_type": "code",
   "execution_count": null,
   "id": "a69fd583",
   "metadata": {},
   "outputs": [],
   "source": [
    "# Physical constants\n",
    "BOLTZMANN    = 1.380649e-23  # J/K\n",
    "AVOGADRO     = 6.02214076e23  # 1/mol\n",
    "PLANCK       = 1.0545718e-34\n",
    "AUTOA        = 0.529177249\n",
    "FELECT       = 2 * AUTOA * 13.605826\n",
    "\n",
    "# Conversion factors\n",
    "JOULE_TO_KJ_MOL = 1e-3 * AVOGADRO\n",
    "KJ_MOL_TO_J = 1e3 / AVOGADRO\n",
    "EV_TO_KJ_MOL = 96.48530749925793\n",
    "J_TO_EV      = AVOGADRO / 1000.0 / EV_TO_KJ_MOL"
   ]
  },
  {
   "cell_type": "code",
   "execution_count": 164,
   "id": "12ca96dc",
   "metadata": {},
   "outputs": [
    {
     "data": {
      "text/plain": [
       "11604.522060401008"
      ]
     },
     "execution_count": 164,
     "metadata": {},
     "output_type": "execute_result"
    }
   ],
   "source": [
    "1 / units.kB"
   ]
  },
  {
   "cell_type": "code",
   "execution_count": null,
   "id": "911468dd",
   "metadata": {},
   "outputs": [],
   "source": [
    "import ase\n",
    "\n",
    "class BaseForceField:\n",
    "    def __init__(self,\n",
    "                 Framework: ase.Atoms,\n",
    "                 ads: ase.Atoms,\n",
    "                 vdw_cutoff: float = 14.0,\n",
    "                 tail_correction: bool = True,\n",
    "                 charge: bool = True,\n",
    "                 device: str = 'cpu'):\n",
    "        \"\"\"\n",
    "        Base class for force fields.\n",
    "        Parameters\n",
    "        ----------\n",
    "        Framework : ase.Atoms\n",
    "            The framework atoms.\n",
    "        ads : ase.Atoms\n",
    "            The adsorbate atoms.\n",
    "        vdw_cutoff : float\n",
    "            The van der Waals cutoff distance.\n",
    "        tail_correction : bool\n",
    "            Whether to apply tail corrections.\n",
    "        charge : bool\n",
    "            Whether to include charge interactions.\n",
    "        device : str\n",
    "            The device to run the calculations on.\n",
    "        \"\"\"\n",
    "        self.frame = Framework\n",
    "        self.ads = ads\n",
    "        self.n_frame_atoms = len(Framework)\n",
    "        self.n_ads_atoms = len(ads)\n",
    "        self.V = test.get_volume()\n",
    "        self.vdw_cutoff = vdw_cutoff\n",
    "        self.tail_correction = tail_correction\n",
    "        self.charge = charge\n",
    "        self.device = device\n",
    "\n",
    "        with open('lj_params.json', 'r') as f:\n",
    "            self.params = json.load(f)\n",
    "\n",
    "        self.ads_params = np.array([\n",
    "            [self.params[s]['sigma'], self.params[s]['epsilon']]\n",
    "            for s in ads.get_chemical_symbols()\n",
    "        ])\n",
    "\n",
    "    def _tail_correction(self, elements, start_idx):\n",
    "        if not self.tail_correction:\n",
    "            return 0.0\n",
    "\n",
    "        symbols, counts = np.unique(elements[start_idx:], return_counts = True)\n",
    "        U_tail = 0\n",
    "        for s, c in zip(symbols, counts):\n",
    "            for y, u in zip(symbols, counts):\n",
    "                epsilon = np.sqrt(self.params[s]['epsilon'] * self.params[y]['epsilon'])\n",
    "                sigma = (self.params[s]['sigma'] + self.params[y]['sigma']) / 2.\n",
    "                U_tail += 2 * np.pi / self.V * c * u * 4 / 3 * epsilon * sigma**3 * (((sigma / self.vdw_cutoff)**9) / 3 - (sigma / self.vdw_cutoff)**3)\n",
    "        return U_tail * units.kB\n",
    "    \n",
    "    def _lj(self, atoms, symbols, i_ads, ref_idx):\n",
    "        vdw = 0.0\n",
    "\n",
    "        first_ads_atom_idx = self.n_frame_atoms + self.n_ads_atoms * i_ads\n",
    "        for i in range(self.n_ads_atoms):\n",
    "            idx = first_ads_atom_idx + i\n",
    "            dist = atoms.get_distances(idx, ref_idx, mic = True, vector = False)\n",
    "            dist = np.array(dist, dtype = np.float64)\n",
    "            mask = (dist < self.vdw_cutoff) * (dist > 0.0)\n",
    "            mask_idx = np.nonzero(mask)[0]\n",
    "\n",
    "            if len(mask_idx) == 0:\n",
    "                continue\n",
    "\n",
    "            ads_atom_param = self.ads_params[i]\n",
    "            params = np.array([\n",
    "                [self.params[symbols[j]]['sigma'], self.params[symbols[j]]['epsilon']] for j in mask_idx\n",
    "            ], dtype = np.float64)\n",
    "\n",
    "            sigma = (params[:, 0] + ads_atom_param[0]) / 2\n",
    "            epsilon = np.sqrt(params[:, 1] * ads_atom_param[1])\n",
    "            rij = dist[mask_idx]\n",
    "\n",
    "            lj = (4 * epsilon * ((sigma / rij)**(12) - (sigma / rij)**(6))).sum() * BOLTZMANN * J_TO_EV\n",
    "            vdw += lj\n",
    "        return vdw\n",
    "\n",
    "    def _ewald(self, atoms, charges, ref_idx, i_ads_idx):\n",
    "\n",
    "        ewald = Ewald(atoms, charges, ref_idx, i_ads_idx)\n",
    "        return ewald.get_ewaldsum()\n",
    "\n",
    "class ClassicalForceField(BaseForceField):\n",
    "    def get_energy_difference(self, new_atoms, old_atoms, i_ads, start_idx = 0):        \n",
    "        old_symbols = np.array(old_atoms.get_chemical_symbols())\n",
    "        new_symbols = np.array(new_atoms.get_chemical_symbols())\n",
    "\n",
    "        old_q = np.array(old_atoms.get_initial_charges(), dtype = np.float64)\n",
    "        new_q = np.array(new_atoms.get_initial_charges(), dtype = np.float64)\n",
    "\n",
    "        old_tail = self._tail_correction(old_symbols, start_idx)\n",
    "        new_tail = self._tail_correction(new_symbols, start_idx)\n",
    "        tail = new_tail - old_tail\n",
    "\n",
    "        ref_idx = np.r_[\n",
    "            start_idx:self.n_frame_atoms + i_ads * self.n_ads_atoms,\n",
    "            self.n_frame_atoms + (i_ads + 1) * self.n_ads_atoms:max(len(old_atoms), len(new_atoms))\n",
    "        ]\n",
    "        ref_idx = np.array(ref_idx, dtype = np.int64)\n",
    "        i_ads_idx = np.array([self.n_frame_atoms + self.n_ads_atoms * i_ads + i for i in range(self.n_ads_atoms)], dtype = np.int64)\n",
    "\n",
    "        if len(new_atoms) > len(old_atoms): # insertion\n",
    "            vdw = self._lj(new_atoms, new_symbols, i_ads, ref_idx)\n",
    "            ewald = self._ewald(new_atoms, new_q, ref_idx, i_ads_idx) if self.charge else 0.0\n",
    "            return vdw + ewald + tail\n",
    "        \n",
    "        elif len(new_atoms) < len(old_atoms): # deletion\n",
    "            vdw = -self._lj(old_atoms, old_symbols, i_ads, ref_idx)\n",
    "            ewald = -self._ewald(old_atoms, old_q, ref_idx, i_ads_idx) if self.charge else 0.0\n",
    "            return vdw + ewald + tail\n",
    "        \n",
    "        else: # translation or rotation\n",
    "            vdw_remove = -self._lj(old_atoms, old_symbols, i_ads, ref_idx)\n",
    "            ewald_remove = -self._ewald(old_atoms, old_q, ref_idx, i_ads_idx) if self.charge else 0.0\n",
    "\n",
    "            vdw_add = self._lj(new_atoms, new_symbols, i_ads, ref_idx)\n",
    "            ewald_add = self._ewald(new_atoms, new_q, ref_idx, i_ads_idx) if self.charge else 0.0\n",
    "            return vdw_remove + ewald_remove + vdw_add + ewald_add\n",
    "\n",
    "    def get_potential_energy(self, atoms):\n",
    "        n_atoms = self.n_frame_atoms\n",
    "        potential_energy = 0.0\n",
    "        i = 0\n",
    "        while n_atoms < len(atoms):\n",
    "            potential_energy += self.get_energy_difference(atoms[:n_atoms + self.n_ads_atoms], atoms[:n_atoms], i)\n",
    "            n_atoms += self.n_ads_atoms\n",
    "            i += 1\n",
    "        return potential_energy\n",
    "\n",
    "    def _lj(self, atoms, symbols, i_ads, ref_idx):\n",
    "        vdw = 0.0\n",
    "\n",
    "        first_ads_atom_idx = self.n_frame_atoms + self.n_ads_atoms * i_ads\n",
    "        for i in range(self.n_ads_atoms):\n",
    "            idx = first_ads_atom_idx + i\n",
    "            dist = atoms.get_distances(idx, ref_idx, mic = True, vector = False)\n",
    "            dist = np.array(dist, dtype = np.float64)\n",
    "            mask = (dist < self.vdw_cutoff) * (dist > 0.0)\n",
    "            mask_idx = np.nonzero(mask)[0]\n",
    "\n",
    "            if len(mask_idx) == 0:\n",
    "                continue\n",
    "\n",
    "            ads_atom_param = self.ads_params[i]\n",
    "            params = np.array([\n",
    "                [self.params[symbols[j]]['sigma'], self.params[symbols[j]]['epsilon']] for j in mask_idx\n",
    "            ], dtype = np.float64)\n",
    "\n",
    "            sigma = (params[:, 0] + ads_atom_param[0]) / 2\n",
    "            epsilon = np.sqrt(params[:, 1] * ads_atom_param[1])\n",
    "            rij = dist[mask_idx]\n",
    "\n",
    "            lj = (4 * epsilon * ((sigma / rij)**(12) - (sigma / rij)**(6))).sum() * BOLTZMANN * J_TO_EV\n",
    "            vdw += lj\n",
    "        return vdw\n",
    "\n",
    "    def _ewald(self, atoms, charges, ref_idx, i_ads_idx):\n",
    "\n",
    "        ewald = Ewald(atoms, charges, ref_idx, i_ads_idx)\n",
    "        return ewald.get_ewaldsum()"
   ]
  },
  {
   "cell_type": "code",
   "execution_count": 72,
   "id": "b8ad179a",
   "metadata": {},
   "outputs": [],
   "source": [
    "co2 = Atoms('COO', positions=[[23.565410, 10.547665, 4.822752], [23.625887, 10.043956, 3.763129], [23.504932, 11.051373, 5.882376]])\n",
    "co2.set_initial_charges([0.7, -0.35, -0.35])\n"
   ]
  },
  {
   "cell_type": "code",
   "execution_count": 74,
   "id": "4fb98bf3",
   "metadata": {},
   "outputs": [],
   "source": [
    "cff = ClassicalForceField(test, co2)"
   ]
  },
  {
   "cell_type": "code",
   "execution_count": 81,
   "id": "5e2933f4",
   "metadata": {},
   "outputs": [
    {
     "data": {
      "text/plain": [
       "-9.195291949889317"
      ]
     },
     "execution_count": 81,
     "metadata": {},
     "output_type": "execute_result"
    }
   ],
   "source": [
    "# Calculate the energy difference between the test systems and convert from eV to kJ/mol\n",
    "cff.get_energy_difference(test, test + co2, 0) * EV_TO_KJ_MOL"
   ]
  },
  {
   "cell_type": "code",
   "execution_count": null,
   "id": "6ad9c643",
   "metadata": {},
   "outputs": [],
   "source": [
    "from scipy.special import erfc\n",
    "\n",
    "\n",
    "class EwaldSum():\n",
    "    '''\n",
    "    Ewald summation for periodic systems based on an ASE Atoms object.\n",
    "    '''\n",
    "\n",
    "    def __init__(self,\n",
    "                 atoms,\n",
    "                 eta: float=0.0,\n",
    "                 Rcut: float=4.0,\n",
    "                 Gcut: float=4.0):\n",
    "        '''\n",
    "        Initialize the Ewald summation object.\n",
    "\n",
    "        Parameters\n",
    "        ----------\n",
    "        atoms : ase.Atoms\n",
    "            The ASE Atoms object containing the atomic structure.\n",
    "        eta : float, optional\n",
    "            The decaying parameter for the Ewald summation.\n",
    "            If set to 0.0, it will be calculated based on the volume of the real-space cell. Default is 0.\n",
    "        Rcut : float, optional\n",
    "            The cutoff radius for the real-space summation. Default is 4.0.\n",
    "        Gcut : float, optional\n",
    "            The cutoff radius for the reciprocal-space summation. Default is 4.0.\n",
    "        '''\n",
    "\n",
    "        # the poscar storing the atoms information\n",
    "        self.atoms  = atoms\n",
    "        self.nAtoms = len(self.atoms)\n",
    "        self._ZZ = self.atoms.get_initial_charges()\n",
    "        # z_i * z_j\n",
    "        self._Zij = np.prod(\n",
    "            np.meshgrid(self._ZZ, self._ZZ, indexing='ij'),\n",
    "            axis=0)\n",
    "\n",
    "        # FELECT = (the electronic charge)/(4*pi*the permittivity of free space) in atomic units this is just e^2\n",
    "        self._inv_4pi_epsilon0 = units.Bohr * units.Hartree # What are the units of FELECT? Should it be in eV?\n",
    "\n",
    "        self._real_space_cell = np.array(self.atoms.cell)                         # real-space cell\n",
    "        self._reciprocal_space_cell = np.linalg.inv(self._real_space_cell).T      # reciprocal-space cell\n",
    "        self._omega = np.linalg.det(self._real_space_cell)                        # Volume of real-space cell\n",
    "\n",
    "        # the decaying parameter\n",
    "        if eta == 0.0:\n",
    "            self._eta = np.sqrt(np.pi) / (self._omega)**(1./3)\n",
    "        else:\n",
    "            self._eta = eta\n",
    "\n",
    "        self._Rcut = Rcut\n",
    "        self._Gcut = Gcut\n",
    "\n",
    "    def get_sum_real(self):\n",
    "        '''\n",
    "        Real-space contribution to the Ewald sum.\n",
    "\n",
    "                 1                              erfc(eta | r_ij + R_N |)\n",
    "            U = --- \\sum_{ij} \\sum'_N Z_i Z_j -----------------------------\n",
    "                 2                                    | r_ij + R_N |\n",
    "\n",
    "        where the prime in \\sum_N means i != j when N = 0.\n",
    "        '''\n",
    "        ii, jj = np.mgrid[0:self.nAtoms, 0:self.nAtoms]\n",
    "\n",
    "        # r_i - r_j, rij of shape (natoms, natoms, 3)\n",
    "        rij = self.atoms.get_scaled_positions()[ii,:] - self.atoms.get_scaled_positions()[jj,:]\n",
    "        # move rij to the range [-0.5,0.5]\n",
    "        rij[rij >= 0.5] -= 1.0\n",
    "        rij[rij < -0.5] += 1.0\n",
    "        \n",
    "        ############################################################\n",
    "        # contribution from N = 0 cell\n",
    "        ############################################################\n",
    "        rij0 = np.linalg.norm(\n",
    "            np.tensordot(self._real_space_cell, rij.T, axes=(0,0)),\n",
    "            axis=0\n",
    "        )\n",
    "        dd = range(self.nAtoms)\n",
    "        # make diagonal term non-zero to avoid divide-by-zero error\n",
    "        rij0[dd, dd] = 0.1\n",
    "        Uij = erfc(rij0 * self._eta) / rij0\n",
    "        # set diagonal term zero\n",
    "        Uij[dd, dd] = 0\n",
    "\n",
    "        ############################################################\n",
    "        # contribution from N != 0 cells\n",
    "        ############################################################\n",
    "        rij = rij.reshape((-1, 3)).T\n",
    "\n",
    "        nx, ny, nz = np.array(\n",
    "            self._Rcut / self._eta / np.linalg.norm(self._real_space_cell, axis=1),\n",
    "            dtype=int\n",
    "        ) + 1\n",
    "        Rn  = np.mgrid[-nx:nx+1, -ny:ny+1, -nz:nz+1].reshape((3,-1))\n",
    "        # remove N = 0 term\n",
    "        cut = np.sum(np.abs(Rn), axis=0) != 0\n",
    "        Rn  = Rn[:,cut]\n",
    "        \n",
    "        # R_N + rij\n",
    "        Rr = np.linalg.norm(\n",
    "            np.tensordot(self._real_space_cell, Rn[:,None,:] + rij[:,:,None], axes=(0,0)),\n",
    "            axis=0\n",
    "        )\n",
    "        Uij += np.sum(\n",
    "            erfc(self._eta * Rr) / Rr, axis=1\n",
    "        ).reshape((self.nAtoms, self.nAtoms))\n",
    "\n",
    "        return 0.5*Uij\n",
    "\n",
    "\n",
    "    def get_sum_recp(self):\n",
    "        '''\n",
    "        Reciprocal-space contribution to the Ewald sum.\n",
    "\n",
    "                  1            4pi              \n",
    "            U = ----- \\sum'_G ----- exp(-G^2/(4 eta^2)) \\sum_{ij} Z_i Z_j exp(-i G r_ij)\n",
    "                 2 V           G^2\n",
    "\n",
    "        where the prime in \\sum_G means G != 0.\n",
    "        '''\n",
    "        nx, ny, nz = np.array(\n",
    "            self._Gcut * self._eta / np.pi / np.linalg.norm(self._reciprocal_space_cell, axis=1),\n",
    "            dtype=int\n",
    "        ) + 1\n",
    "        Gn  = np.mgrid[-nx:nx+1, -ny:ny+1, -nz:nz+1].reshape((3,-1))\n",
    "        # remove G = 0 term\n",
    "        cut = np.sum(np.abs(Gn), axis=0) != 0\n",
    "        Gn  = Gn[:,cut]\n",
    "\n",
    "        G2 = np.linalg.norm(\n",
    "            np.tensordot(self._reciprocal_space_cell*2*np.pi, Gn, axes=(0,0)),\n",
    "            axis=0\n",
    "        )**2\n",
    "        expG2_invG2 = 4*np.pi * np.exp(-G2/4/self._eta**2) / G2\n",
    "\n",
    "        # r_i - r_j, rij of shape (natoms, natoms, 3)\n",
    "        # no need to move rij from [0,1] to [-0.5,0.5], which will not affect\n",
    "        # the phase G*rij\n",
    "        ii, jj = np.mgrid[0:self.nAtoms, 0:self.nAtoms]\n",
    "        rij = self.atoms.get_scaled_positions()[ii,:] - self.atoms.get_scaled_positions()[jj,:]\n",
    "\n",
    "        sfac = np.exp(-2j*np.pi * (rij @ Gn))\n",
    "\n",
    "        Uij  = 0.5 * np.sum(expG2_invG2 * sfac, axis=-1) / self._omega\n",
    "\n",
    "        return Uij.real\n",
    "\n",
    "\n",
    "    def get_ewaldsum_energy(self) -> float:\n",
    "        '''\n",
    "        Total Coulomb energy from Ewald summation in eV.\n",
    "\n",
    "        The total Coulomb energy is given by:\n",
    "        Ut = (Ur + Ug + Us + Un) * inv_4pi_epsilon0\n",
    "\n",
    "        where:\n",
    "        - Ur is the real-space contribution\n",
    "        - Ug is the reciprocal-space contribution\n",
    "        - Us is the interaction between charges\n",
    "        - Un is the interaction with the neutralizing background\n",
    "        '''\n",
    "\n",
    "        # real-space contribution\n",
    "        Ur = np.sum(self.get_sum_real() * self._Zij)\n",
    "        # reciprocal--space contribution\n",
    "        Ug = np.sum(self.get_sum_recp() * self._Zij)\n",
    "\n",
    "        # interaction between charges\n",
    "        Us = -self._eta / np.sqrt(np.pi) * np.sum(self._ZZ**2)\n",
    "        # interaction with the neutralizing background\n",
    "        Un = -(2*np.pi / self._eta**2 / self._omega) * self._ZZ.sum()**2 / 4\n",
    "\n",
    "        # total coulomb energy\n",
    "        Ut = (Ur + Ug + Us + Un) * self._inv_4pi_epsilon0\n",
    "\n",
    "        return Ut\n",
    "\n",
    "\n",
    "\n",
    "def calculate_Perpendicular_Widths(cell_parameters: np.ndarray) -> tuple[float, float, float]:\n",
    "    \"\"\"\n",
    "    Calculate the perpendicular widths of the unit cell.\n",
    "    RASPA considers the perpendicular directions as the directions perpendicular to the `ab`,\n",
    "    `bc`, and `ca` planes. Thus, the directions depend on the crystallographic vectors `a`, `b`,\n",
    "    and `c`.\n",
    "    The length in the perpendicular directions are the projections of the crystallographic vectors\n",
    "    on the vectors `a x b`, `b x c`, and `c x a`. (here `x` means cross product)\n",
    "    \"\"\"\n",
    "    # Unpack the cell parameters\n",
    "    a, b, c, alpha, beta, gamma = cell_parameters\n",
    "\n",
    "    # Calculate the nu value\n",
    "    nu = (np.cos(alpha) - np.cos(gamma) * np.cos(beta)) / np.sin(gamma)\n",
    "\n",
    "    # Build the transformation matrix as a numpy array\n",
    "    CellBox = np.array([[a, 0.0, 0.0],\n",
    "                        [b * np.cos(gamma), b * np.sin(gamma), 0.0],\n",
    "                        [c * np.cos(beta), c * nu, c * np.sqrt(1.0 - np.cos(beta)**2 - nu**2)]])\n",
    "\n",
    "    # Calculate the cross products\n",
    "    axb = np.cross(CellBox[0], CellBox[1])\n",
    "    bxc = np.cross(CellBox[1], CellBox[2])\n",
    "    cxa = np.cross(CellBox[2], CellBox[0])\n",
    "\n",
    "    # Calculates the volume of the unit cell\n",
    "    V = np.dot(np.cross(CellBox[0], CellBox[1]), CellBox[2])\n",
    "\n",
    "    # Calculate perpendicular widths\n",
    "    p_width_1 = V / np.linalg.norm(bxc)\n",
    "    p_width_2 = V / np.linalg.norm(cxa)\n",
    "    p_width_3 = V / np.linalg.norm(axb)\n",
    "\n",
    "    return p_width_1, p_width_2, p_width_3\n",
    "\n",
    "def calculate_UnitCells(cell_paramters: np.ndarray, cutoff: float) -> tuple[int, int, int]:\n",
    "    \"\"\"\n",
    "    Calculate the number of unit cell repetitions so that all supercell lengths are larger than\n",
    "    twice the interaction potential cut-off radius.\n",
    "    \"\"\"\n",
    "\n",
    "    # Calculate the perpendicular widths\n",
    "    p_width_1, p_width_2, p_width_3 = calculate_Perpendicular_Widths(cell_paramters)\n",
    "\n",
    "    # Calculate UnitCells string\n",
    "    unit_cells = np.ceil(2.0 * cutoff / np.array([p_width_1, p_width_2, p_width_3])).astype(int)\n",
    "\n",
    "    return unit_cells.tolist()\n",
    "\n",
    "import warnings\n",
    "from itertools import combinations\n",
    "\n",
    "class BaseForceField:\n",
    "    def __init__(self,\n",
    "                 atoms: ase.Atoms,\n",
    "                 vdw_cutoff: float = 14.0,\n",
    "                 tail_correction: bool = True,\n",
    "                 charge: bool = True,\n",
    "                 device: str = 'cpu'):\n",
    "        \"\"\"\n",
    "        Base class for force fields.\n",
    "        Parameters\n",
    "        ----------\n",
    "        Framework : ase.Atoms\n",
    "            The framework atoms.\n",
    "        ads : ase.Atoms\n",
    "            The adsorbate atoms.\n",
    "        vdw_cutoff : float\n",
    "            The van der Waals cutoff distance.\n",
    "        tail_correction : bool\n",
    "            Whether to apply tail corrections.\n",
    "        charge : bool\n",
    "            Whether to include charge interactions.\n",
    "        device : str\n",
    "            The device to run the calculations on.\n",
    "        \"\"\"\n",
    "        self.atoms = atoms\n",
    "        self.n_frame_atoms = len(atoms)\n",
    "        if (self.atoms.cell == 0.0).all():\n",
    "            self.atoms.set_cell(np.eye(3, 3) * vdw_cutoff * 2)\n",
    "            self.atoms.set_pbc(True)\n",
    "\n",
    "        self.V = self.atoms.get_volume()\n",
    "        self.vdw_cutoff = vdw_cutoff\n",
    "        self.tail_correction = tail_correction\n",
    "        self.charge = charge\n",
    "        self.device = device\n",
    "\n",
    "        with open('lj_params.json', 'r') as f:\n",
    "            self.params = json.load(f)\n",
    "\n",
    "        # Check if the perpendicular widths are smaller than the vdw_cutoff\n",
    "        p_widths = calculate_Perpendicular_Widths(self.atoms.cell.cellpar())\n",
    "\n",
    "        if any(width < self.vdw_cutoff for width in p_widths):\n",
    "            warnings.warn(\n",
    "                f\"The perpendicular widths {p_widths} are smaller than the vdw_cutoff {self.vdw_cutoff}. \"\n",
    "                \"This may lead to inaccurate results due to the periodic boundary conditions.\"\n",
    "            )\n",
    "            \n",
    "\n",
    "    def _tail_correction(self, elements, start_idx):\n",
    "        if not self.tail_correction:\n",
    "            return 0.0\n",
    "\n",
    "        symbols, counts = np.unique(elements[start_idx:], return_counts = True)\n",
    "        U_tail = 0\n",
    "        for s, c in zip(symbols, counts):\n",
    "            for y, u in zip(symbols, counts):\n",
    "                epsilon = np.sqrt(self.params[s]['epsilon'] * self.params[y]['epsilon'])\n",
    "                sigma = (self.params[s]['sigma'] + self.params[y]['sigma']) / 2.\n",
    "                U_tail += 2 * np.pi / self.V * c * u * 4 / 3 * epsilon * sigma**3 * (((sigma / self.vdw_cutoff)**9) / 3 - (sigma / self.vdw_cutoff)**3)\n",
    "        return U_tail * units.kB\n",
    "    \n",
    "    def _lj(self) -> float:\n",
    "\n",
    "        # Turn off numpy RuntimeWarning\n",
    "        np.seterr(invalid='ignore')\n",
    "        \n",
    "        # Preallocate arrays\n",
    "        sigmas = np.empty((len(self.atoms), len(self.atoms)))\n",
    "        epsilons = np.empty((len(self.atoms), len(self.atoms)))\n",
    "\n",
    "        sigma_vec = np.array([self.params[s]['sigma'] for s in self.atoms.get_chemical_symbols()])\n",
    "        epsilon_vec = np.array([self.params[s]['epsilon'] for s in self.atoms.get_chemical_symbols()])\n",
    "\n",
    "        # Use broadcasting instead of loops\n",
    "        sigmas = (sigma_vec[:, None] + sigma_vec[None, :]) / 2\n",
    "        epsilons = np.sqrt(epsilon_vec[:, None] * epsilon_vec[None, :])\n",
    "\n",
    "        rij = self.atoms.get_all_distances(mic=True)\n",
    "\n",
    "        # Replace all distances greater than the cutoff with 0\n",
    "        rij[rij > self.vdw_cutoff] = 0\n",
    "\n",
    "        energy = 4 * epsilons * ((sigmas / rij)**12 - (sigmas / rij)**6)\n",
    "\n",
    "        # Replace any NaN values with 0\n",
    "        energy[np.isnan(energy)] = 0.0\n",
    "\n",
    "        # Sum the energy matrix and divide by 2 to avoid double counting since the energy matrix is symmetric\n",
    "        energy = energy.sum() / 2\n",
    "\n",
    "        # Convert from K to eV\n",
    "        energy *= units.kB\n",
    "\n",
    "        return energy \n",
    "\n",
    "\n",
    "    def _ewald(self) -> float:\n",
    "\n",
    "        ewald = EwaldSum(self.atoms)\n",
    "        return ewald.get_ewaldsum_energy()"
   ]
  },
  {
   "cell_type": "code",
   "execution_count": 104,
   "id": "5523201b",
   "metadata": {},
   "outputs": [],
   "source": [
    "#from ase.io import write\n",
    "#write('co2.xyz', co2, format='extxyz')\n",
    "\n",
    "co2 = Atoms('COO', positions=[[23.565410, 10.547665, 4.822752], [23.625887, 10.043956, 3.763129], [23.504932, 11.051373, 5.882376]])\n",
    "co2.set_initial_charges([0.7, -0.35, -0.35])\n"
   ]
  },
  {
   "cell_type": "code",
   "execution_count": 186,
   "id": "0cc6e759",
   "metadata": {},
   "outputs": [
    {
     "name": "stdout",
     "output_type": "stream",
     "text": [
      "6710.011274737736\n",
      "Execution time: 0.0006945133209228516\n",
      "-5.25518061263742\n",
      "Execution time: 0.0006048679351806641\n"
     ]
    }
   ],
   "source": [
    "a = BaseForceField(co2, vdw_cutoff=14.0, tail_correction=False, charge=True, device='cpu')\n",
    "import time\n",
    "start = time.time()\n",
    "print(a._lj())\n",
    "print(\"Execution time:\", time.time() - start)\n",
    "start = time.time()\n",
    "print(a._ewald())\n",
    "print(\"Execution time:\", time.time() - start)"
   ]
  },
  {
   "cell_type": "code",
   "execution_count": 183,
   "id": "c25bd9ee",
   "metadata": {},
   "outputs": [
    {
     "name": "stdout",
     "output_type": "stream",
     "text": [
      "146605.29983450656\n",
      "Execution time: 0.024985551834106445\n",
      "-703.8102797066243\n",
      "Execution time: 0.6514999866485596\n"
     ]
    }
   ],
   "source": [
    "a = BaseForceField(test, vdw_cutoff=14.0, tail_correction=False, charge=True, device='cpu')\n",
    "import time\n",
    "start = time.time()\n",
    "print(a._lj())\n",
    "print(\"Execution time:\", time.time() - start)\n",
    "start = time.time()\n",
    "print(a._ewald())\n",
    "print(\"Execution time:\", time.time() - start)"
   ]
  },
  {
   "cell_type": "code",
   "execution_count": 184,
   "id": "47f28185",
   "metadata": {},
   "outputs": [
    {
     "name": "stdout",
     "output_type": "stream",
     "text": [
      "153315.64134823004\n",
      "Execution time: 0.0264890193939209\n",
      "-709.2963741310396\n",
      "Execution time: 0.6579368114471436\n"
     ]
    }
   ],
   "source": [
    "a = BaseForceField(test + co2, vdw_cutoff=14.0, tail_correction=False, charge=True, device='cpu')\n",
    "import time\n",
    "start = time.time()\n",
    "print(a._lj())\n",
    "print(\"Execution time:\", time.time() - start)\n",
    "start = time.time()\n",
    "print(a._ewald())\n",
    "print(\"Execution time:\", time.time() - start)"
   ]
  },
  {
   "cell_type": "code",
   "execution_count": 190,
   "id": "bee9e5e3",
   "metadata": {},
   "outputs": [
    {
     "name": "stdout",
     "output_type": "stream",
     "text": [
      "9.583422474205038\n"
     ]
    }
   ],
   "source": [
    "final = 153315.64134823004 + (-709.2963741310396)\n",
    "initial = 146605.29983450656 + (-703.8102797066243) + (6710.011274737736 -5.25518061263742)\n",
    "print((final - initial) / (units.kJ / units.mol))"
   ]
  },
  {
   "cell_type": "code",
   "execution_count": 108,
   "id": "7b6e5bc5",
   "metadata": {},
   "outputs": [],
   "source": [
    "co2.set_cell(np.eye(3, 3) * 14)"
   ]
  },
  {
   "cell_type": "code",
   "execution_count": 119,
   "id": "5aba0cf6",
   "metadata": {},
   "outputs": [],
   "source": [
    "co2.set_cell(np.eye(3, 3) * 14 * 2)\n",
    "co2.set_pbc(True)"
   ]
  },
  {
   "cell_type": "code",
   "execution_count": 120,
   "id": "a7385902",
   "metadata": {},
   "outputs": [
    {
     "data": {
      "text/plain": [
       "array([28., 28., 28., 90., 90., 90.])"
      ]
     },
     "execution_count": 120,
     "metadata": {},
     "output_type": "execute_result"
    }
   ],
   "source": [
    "co2.cell.cellpar()"
   ]
  },
  {
   "cell_type": "code",
   "execution_count": 137,
   "id": "8a6152da",
   "metadata": {},
   "outputs": [
    {
     "name": "stdout",
     "output_type": "stream",
     "text": [
      "Distance between C and O: [1.1748111] Angstroms\n",
      "Distance between C and O: [1.17481163] Angstroms\n",
      "Distance between O and O: [2.34962273] Angstroms\n"
     ]
    }
   ],
   "source": [
    "# Iterate on the CO2 atoms in groups of 2 atoms using the library `itertools`\n",
    "\n",
    "\n",
    "for i, j in combinations(co2, 2):\n",
    "    dist = co2.get_distances(i.index, j.index, mic=True, vector=False)\n",
    "    print(f\"Distance between {i.symbol} and {j.symbol}: {dist} Angstroms\")\n",
    "    "
   ]
  },
  {
   "cell_type": "code",
   "execution_count": 142,
   "id": "2ec18a0d",
   "metadata": {},
   "outputs": [
    {
     "data": {
      "text/plain": [
       "array([[0.        , 1.1748111 , 1.17481163],\n",
       "       [1.1748111 , 0.        , 2.34962273],\n",
       "       [1.17481163, 2.34962273, 0.        ]])"
      ]
     },
     "execution_count": 142,
     "metadata": {},
     "output_type": "execute_result"
    }
   ],
   "source": [
    "co2.get_all_distances(mic=True, vector=False)"
   ]
  },
  {
   "cell_type": "code",
   "execution_count": null,
   "id": "2e3c3d17",
   "metadata": {},
   "outputs": [],
   "source": [
    "with open('lj_params.json', 'r') as f:\n",
    "    params = json.load(f)\n",
    "\n",
    "\n"
   ]
  },
  {
   "cell_type": "code",
   "execution_count": 153,
   "id": "b4a2dede",
   "metadata": {},
   "outputs": [
    {
     "data": {
      "text/plain": [
       "array([[47.8562    , 48.00691268, 48.00691268],\n",
       "       [48.00691268, 48.1581    , 48.1581    ],\n",
       "       [48.00691268, 48.1581    , 48.1581    ]])"
      ]
     },
     "execution_count": 153,
     "metadata": {},
     "output_type": "execute_result"
    }
   ],
   "source": [
    "epsilons"
   ]
  },
  {
   "cell_type": "code",
   "execution_count": 161,
   "id": "74acc397",
   "metadata": {},
   "outputs": [],
   "source": [
    "def lennard_jones_energy(rij: np.ndarray, sigma: np.ndarray, epsilon: np.ndarray) -> np.ndarray:\n",
    "    \"\"\"\n",
    "    Calculate the Lennard-Jones potential energy for a pair of atoms.\n",
    "    \n",
    "    Parameters\n",
    "    ----------\n",
    "    rij : float\n",
    "        The distance between the two atoms.\n",
    "    sigma : float\n",
    "        The Lennard-Jones parameter for the distance at which the potential is zero.\n",
    "    epsilon : float\n",
    "        The Lennard-Jones parameter for the depth of the potential well.\n",
    "    \n",
    "    Returns\n",
    "    -------\n",
    "    float\n",
    "        The Lennard-Jones potential energy.\n",
    "    \"\"\"\n",
    "    \n",
    "    np.seterr(invalid='ignore', divide='ignore')\n",
    "\n",
    "    energy = 4 * epsilon * ((sigma / rij)**12 - (sigma / rij)**6)\n",
    "    \n",
    "    # Replace any NaN values with 0\n",
    "    energy[np.isnan(energy)] = 0.0\n",
    "\n",
    "    energy = energy.sum() / 2  # Divide by 2 to account for double counting in pairwise interactions\n",
    "\n",
    "    return energy\n",
    "\n",
    "energy = lennard_jones_energy(co2.get_all_distances(mic=True, vector=False), sigmas, epsilons)"
   ]
  },
  {
   "cell_type": "code",
   "execution_count": 162,
   "id": "f5f56789",
   "metadata": {},
   "outputs": [
    {
     "data": {
      "text/plain": [
       "77866473.86323355"
      ]
     },
     "execution_count": 162,
     "metadata": {},
     "output_type": "execute_result"
    }
   ],
   "source": [
    "energy"
   ]
  },
  {
   "cell_type": "code",
   "execution_count": 168,
   "id": "07d95ba5",
   "metadata": {},
   "outputs": [
    {
     "data": {
      "text/plain": [
       "0.004553230173977033"
      ]
     },
     "execution_count": 168,
     "metadata": {},
     "output_type": "execute_result"
    }
   ],
   "source": [
    "52.83806 * units.kB"
   ]
  },
  {
   "cell_type": "code",
   "execution_count": 170,
   "id": "aa30d718",
   "metadata": {},
   "outputs": [
    {
     "data": {
      "text/plain": [
       "0.10499998303700092"
      ]
     },
     "execution_count": 170,
     "metadata": {},
     "output_type": "execute_result"
    }
   ],
   "source": [
    "52.83806 * units.kB / (units.kcal / units.mol)"
   ]
  },
  {
   "cell_type": "code",
   "execution_count": 171,
   "id": "8bfc98ed",
   "metadata": {},
   "outputs": [
    {
     "data": {
      "text/plain": [
       "23.060548012069496"
      ]
     },
     "execution_count": 171,
     "metadata": {},
     "output_type": "execute_result"
    }
   ],
   "source": [
    "1 / (units.kcal / units.mol)"
   ]
  },
  {
   "cell_type": "code",
   "execution_count": 38,
   "id": "692c583d",
   "metadata": {},
   "outputs": [],
   "source": [
    "from lj import CustomLennardJones\n",
    "import json\n",
    "from ase import units\n",
    "with open('lj_params.json', 'r') as f:\n",
    "    lj_params = json.load(f)\n",
    "\n",
    "calculator = CustomLennardJones(\n",
    "    lj_parameters=lj_params,\n",
    "    vdw_cutoff=18.0,\n",
    ")\n",
    "\n",
    "test.calc = calculator\n",
    "\n",
    "np.seterr(invalid='ignore')\n",
    "\n",
    "\n",
    "#from ase.io import write\n",
    "#write('co2.xyz', co2, format='extxyz')\n",
    "\n",
    "co2 = Atoms('CsOsOs', positions=[[23.565410, 10.547665, 4.822752], [23.625887, 10.043956, 3.763129], [23.504932, 11.051373, 5.882376]])\n",
    "co2.set_initial_charges([0.7, -0.35, -0.35])\n",
    "co2.set_cell(np.eye(3, 3) * 14 * 2)\n",
    "co2.set_pbc(True)\n",
    "co2.calc = calculator\n",
    "\n",
    "combined = test + co2\n",
    "combined.calc = calculator"
   ]
  },
  {
   "cell_type": "code",
   "execution_count": 39,
   "id": "eb7e45d7",
   "metadata": {},
   "outputs": [],
   "source": [
    "ads = combined.get_total_energy() - (test.get_total_energy() + co2.get_total_energy())"
   ]
  },
  {
   "cell_type": "code",
   "execution_count": 40,
   "id": "d22d93a4",
   "metadata": {},
   "outputs": [
    {
     "data": {
      "text/plain": [
       "45.19643215665507"
      ]
     },
     "execution_count": 40,
     "metadata": {},
     "output_type": "execute_result"
    }
   ],
   "source": [
    "ads / (units.kJ / units.mol)"
   ]
  },
  {
   "cell_type": "code",
   "execution_count": 41,
   "id": "ef8de407",
   "metadata": {},
   "outputs": [
    {
     "data": {
      "text/plain": [
       "148405.22902073647"
      ]
     },
     "execution_count": 41,
     "metadata": {},
     "output_type": "execute_result"
    }
   ],
   "source": [
    "combined.get_total_energy()"
   ]
  },
  {
   "cell_type": "code",
   "execution_count": 42,
   "id": "2181803f",
   "metadata": {},
   "outputs": [
    {
     "data": {
      "text/plain": [
       "148404.76059272978"
      ]
     },
     "execution_count": 42,
     "metadata": {},
     "output_type": "execute_result"
    }
   ],
   "source": [
    "(test.get_total_energy() + co2.get_total_energy())"
   ]
  },
  {
   "cell_type": "code",
   "execution_count": null,
   "id": "b32f5aac",
   "metadata": {},
   "outputs": [],
   "source": []
  }
 ],
 "metadata": {
  "kernelspec": {
   "display_name": "ml4mat",
   "language": "python",
   "name": "python3"
  },
  "language_info": {
   "codemirror_mode": {
    "name": "ipython",
    "version": 3
   },
   "file_extension": ".py",
   "mimetype": "text/x-python",
   "name": "python",
   "nbconvert_exporter": "python",
   "pygments_lexer": "ipython3",
   "version": "3.10.17"
  }
 },
 "nbformat": 4,
 "nbformat_minor": 5
}
